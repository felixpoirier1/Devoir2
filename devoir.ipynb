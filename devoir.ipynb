{
 "cells": [
  {
   "cell_type": "code",
   "execution_count": 1,
   "metadata": {},
   "outputs": [],
   "source": [
    "import pandas as pd\n",
    "import matplotlib.pyplot as plt\n",
    "import numpy as np"
   ]
  },
  {
   "cell_type": "code",
   "execution_count": 16,
   "metadata": {},
   "outputs": [
    {
     "data": {
      "text/html": [
       "<div>\n",
       "<style scoped>\n",
       "    .dataframe tbody tr th:only-of-type {\n",
       "        vertical-align: middle;\n",
       "    }\n",
       "\n",
       "    .dataframe tbody tr th {\n",
       "        vertical-align: top;\n",
       "    }\n",
       "\n",
       "    .dataframe thead th {\n",
       "        text-align: right;\n",
       "    }\n",
       "</style>\n",
       "<table border=\"1\" class=\"dataframe\">\n",
       "  <thead>\n",
       "    <tr style=\"text-align: right;\">\n",
       "      <th></th>\n",
       "      <th>wlth</th>\n",
       "      <th>inc</th>\n",
       "    </tr>\n",
       "  </thead>\n",
       "  <tbody>\n",
       "    <tr>\n",
       "      <th>0.86</th>\n",
       "      <td>11381.3786</td>\n",
       "      <td>6850.9275</td>\n",
       "    </tr>\n",
       "    <tr>\n",
       "      <th>0.87</th>\n",
       "      <td>11922.1436</td>\n",
       "      <td>7011.7570</td>\n",
       "    </tr>\n",
       "    <tr>\n",
       "      <th>0.88</th>\n",
       "      <td>12489.6436</td>\n",
       "      <td>7175.4880</td>\n",
       "    </tr>\n",
       "    <tr>\n",
       "      <th>0.89</th>\n",
       "      <td>13087.1391</td>\n",
       "      <td>7343.6570</td>\n",
       "    </tr>\n",
       "    <tr>\n",
       "      <th>0.90</th>\n",
       "      <td>13716.8891</td>\n",
       "      <td>7515.9370</td>\n",
       "    </tr>\n",
       "    <tr>\n",
       "      <th>0.91</th>\n",
       "      <td>14382.2941</td>\n",
       "      <td>7693.2295</td>\n",
       "    </tr>\n",
       "    <tr>\n",
       "      <th>0.92</th>\n",
       "      <td>15073.8421</td>\n",
       "      <td>7875.4625</td>\n",
       "    </tr>\n",
       "    <tr>\n",
       "      <th>0.93</th>\n",
       "      <td>15803.4721</td>\n",
       "      <td>8063.6630</td>\n",
       "    </tr>\n",
       "    <tr>\n",
       "      <th>0.94</th>\n",
       "      <td>16557.6871</td>\n",
       "      <td>8259.5910</td>\n",
       "    </tr>\n",
       "    <tr>\n",
       "      <th>0.95</th>\n",
       "      <td>17353.5871</td>\n",
       "      <td>8463.2610</td>\n",
       "    </tr>\n",
       "    <tr>\n",
       "      <th>0.96</th>\n",
       "      <td>18191.0271</td>\n",
       "      <td>8675.3720</td>\n",
       "    </tr>\n",
       "    <tr>\n",
       "      <th>0.97</th>\n",
       "      <td>19056.1311</td>\n",
       "      <td>8900.0905</td>\n",
       "    </tr>\n",
       "    <tr>\n",
       "      <th>0.98</th>\n",
       "      <td>19951.4911</td>\n",
       "      <td>9146.8715</td>\n",
       "    </tr>\n",
       "    <tr>\n",
       "      <th>0.99</th>\n",
       "      <td>20896.5316</td>\n",
       "      <td>9429.1720</td>\n",
       "    </tr>\n",
       "  </tbody>\n",
       "</table>\n",
       "</div>"
      ],
      "text/plain": [
       "            wlth        inc\n",
       "0.86  11381.3786  6850.9275\n",
       "0.87  11922.1436  7011.7570\n",
       "0.88  12489.6436  7175.4880\n",
       "0.89  13087.1391  7343.6570\n",
       "0.90  13716.8891  7515.9370\n",
       "0.91  14382.2941  7693.2295\n",
       "0.92  15073.8421  7875.4625\n",
       "0.93  15803.4721  8063.6630\n",
       "0.94  16557.6871  8259.5910\n",
       "0.95  17353.5871  8463.2610\n",
       "0.96  18191.0271  8675.3720\n",
       "0.97  19056.1311  8900.0905\n",
       "0.98  19951.4911  9146.8715\n",
       "0.99  20896.5316  9429.1720"
      ]
     },
     "execution_count": 16,
     "metadata": {},
     "output_type": "execute_result"
    }
   ],
   "source": [
    "df = pd.read_excel('tp2_wealth_data.xlsx', index_col=0)\n",
    "df.cumsum().iloc[85:]"
   ]
  },
  {
   "cell_type": "markdown",
   "metadata": {},
   "source": [
    "# Question 1"
   ]
  },
  {
   "cell_type": "code",
   "execution_count": 3,
   "metadata": {},
   "outputs": [],
   "source": [
    "cum = np.array(df.cumsum())\n"
   ]
  },
  {
   "cell_type": "code",
   "execution_count": 4,
   "metadata": {},
   "outputs": [
    {
     "name": "stdout",
     "output_type": "stream",
     "text": [
      "87.225 0.22117689655040762 0.12403856881601055\n"
     ]
    }
   ],
   "source": [
    "med = df.loc[0.5]['inc']\n",
    "top10 = df[df.index >= 0.9]['inc'].sum()\n",
    "top5 = df[df.index >= 0.95]['inc'].sum()\n",
    "sumall = df['inc'].sum()\n",
    "print(med, top10/sumall, top5/sumall)"
   ]
  },
  {
   "cell_type": "code",
   "execution_count": 5,
   "metadata": {},
   "outputs": [
    {
     "data": {
      "image/png": "[encoded data removed]",
      "text/plain": [
       "<Figure size 432x288 with 1 Axes>"
      ]
     },
     "metadata": {
      "needs_background": "light"
     },
     "output_type": "display_data"
    }
   ],
   "source": [
    "xax = df.index\n",
    "perc10 = 0\n",
    "plt.plot(xax, cum[:,1], label=\"Revenus\")\n",
    "plt.ylabel(r'Revenus en milliers de $')\n",
    "plt.xlabel(r'Percentile')\n",
    "plt.fill_between(xax,cum[:,1], where=(xax>=0.9), color=\"red\", label=\"90e percentile\", alpha=0.2)\n",
    "plt.fill_between(xax,cum[:,1], where=(xax>=0.95), color=\"orange\", label=\"95e percentile\", alpha=0.2)\n",
    "plt.legend()\n",
    "plt.annotate('(0.90, 7516)', xy=(0.8, 7516), fontsize=8, ha=\"center\")\n",
    "plt.annotate('(0.95, 8463)', xy=(0.85, 8463), fontsize=8, ha=\"center\")\n",
    "\n",
    "plt.title('Fonction de répartition des revenus des ménages')\n",
    "plt.show()"
   ]
  },
  {
   "cell_type": "markdown",
   "metadata": {},
   "source": [
    "Les revenus médians des ménages sont de 87.225 milliers de $, 10% des ménages avec les plus haut revenus s'accaparent de 22% des revenus totaux des ménages et 5% des ménages avec les plus haut revenus s'accaparent de 12% des revenus totaux des ménages"
   ]
  },
  {
   "cell_type": "markdown",
   "metadata": {},
   "source": [
    "# Question 2"
   ]
  },
  {
   "cell_type": "code",
   "execution_count": 6,
   "metadata": {},
   "outputs": [
    {
     "name": "stdout",
     "output_type": "stream",
     "text": [
      "106.95 0.3737171627084755 0.207634672732005\n"
     ]
    }
   ],
   "source": [
    "med = df.loc[0.5]['wlth']\n",
    "top10 = df[df.index >= 0.9]['wlth'].sum()\n",
    "top5 = df[df.index >= 0.95]['wlth'].sum()\n",
    "sumall = df['wlth'].sum()\n",
    "print(med, top10/sumall, top5/sumall)"
   ]
  },
  {
   "cell_type": "code",
   "execution_count": 7,
   "metadata": {},
   "outputs": [
    {
     "data": {
      "image/png": "[encoded data removed]",
      "text/plain": [
       "<Figure size 432x288 with 1 Axes>"
      ]
     },
     "metadata": {
      "needs_background": "light"
     },
     "output_type": "display_data"
    }
   ],
   "source": [
    "xax = df.index\n",
    "perc10 = 0\n",
    "plt.plot(xax, cum[:,0], label=\"Richesse\")\n",
    "plt.ylabel(r'Richesse en milliers de $')\n",
    "plt.xlabel(r'Percentile')\n",
    "plt.fill_between(xax,cum[:,0], where=(xax>=0.9), color=\"red\", label=\"90e percentile\", alpha=0.2)\n",
    "plt.fill_between(xax,cum[:,0], where=(xax>=0.95), color=\"orange\", label=\"95e percentile\", alpha=0.2)\n",
    "plt.legend()\n",
    "plt.annotate('(0.90, 13717)', xy=(0.8, 13717), fontsize=8, ha=\"center\")\n",
    "plt.annotate('(0.95, 17354)', xy=(0.85, 17354), fontsize=8, ha=\"center\")\n",
    "\n",
    "plt.title('Fonction de répartition de la richesse des retraités')\n",
    "plt.show()"
   ]
  },
  {
   "cell_type": "markdown",
   "metadata": {},
   "source": [
    "La richesse médiane des retraités est de 106.95 milliers de $, 10% des retraités les mieux nantis s'accaparent de 37%  de la richesse totale des retraités et 5% des retraités les mieux nantis s'accaparent de 21% de la richesse totale des retraités"
   ]
  },
  {
   "cell_type": "markdown",
   "metadata": {},
   "source": [
    "On en conclut que la répartition des salaires au sein des ménages ainsi que la répartition de la richesse au seins de la population retraitée suivent tout deux une relation exponentielle. On observe que la répartition des revenus au sein des ménages tend à être moins inégales que la répartition de la richesse au sein de la population retraitée. "
   ]
  },
  {
   "cell_type": "markdown",
   "metadata": {},
   "source": [
    "# Question 3"
   ]
  },
  {
   "cell_type": "code",
   "execution_count": 17,
   "metadata": {},
   "outputs": [],
   "source": [
    "def u(y, s, discount, periods, ear):\n",
    "    per_rate = (1+ear)**(periods) - 1\n",
    "    return np.log(y-s) + (discount ** periods)*np.log(s(1+per_rate))\n"
   ]
  },
  {
   "cell_type": "markdown",
   "metadata": {},
   "source": [
    "# Question 5"
   ]
  },
  {
   "cell_type": "code",
   "execution_count": 18,
   "metadata": {},
   "outputs": [],
   "source": [
    "df['remp'] = 1 - df.index"
   ]
  },
  {
   "cell_type": "markdown",
   "metadata": {},
   "source": [
    "# Question 8"
   ]
  },
  {
   "cell_type": "code",
   "execution_count": 26,
   "metadata": {},
   "outputs": [],
   "source": [
    "def gini(y):\n",
    "    n = len(y)\n",
    "    y_nom = [(n+1-(i+1))*val for i, val in enumerate(y)]\n",
    "    return 1/n * (n + 1 - 2*sum(y_nom)/sum(y))"
   ]
  },
  {
   "cell_type": "markdown",
   "metadata": {},
   "source": [
    "# Question 9"
   ]
  },
  {
   "cell_type": "code",
   "execution_count": 30,
   "metadata": {},
   "outputs": [
    {
     "name": "stdout",
     "output_type": "stream",
     "text": [
      "0.3262056618470098 0.6020629105915184\n"
     ]
    }
   ],
   "source": [
    "inc = list(df.inc)\n",
    "wlth = list(df.wlth)\n",
    "print(gini(inc), gini(wlth))"
   ]
  },
  {
   "cell_type": "markdown",
   "metadata": {},
   "source": [
    "On observe que le coefficient de Gini où la variable est le revenu est de 0.326 alors que le coefficient de Gini où la variable est la richesse est de 0.602. On peut alors affirmer que la richesse a un plus grand impact sur l'inégalité au sein de la population que le revenu. Ceci semble évident puisqu'une cummulation d'année de travail à revenu différents génère des écarts plus importants entre les différents percentiles de richesse."
   ]
  },
  {
   "cell_type": "markdown",
   "metadata": {},
   "source": [
    "# Question 10"
   ]
  },
  {
   "cell_type": "code",
   "execution_count": null,
   "metadata": {},
   "outputs": [],
   "source": []
  }
 ],
 "metadata": {
  "kernelspec": {
   "display_name": "Python 3.8.5 ('base')",
   "language": "python",
   "name": "python3"
  },
  "language_info": {
   "codemirror_mode": {
    "name": "ipython",
    "version": 3
   },
   "file_extension": ".py",
   "mimetype": "text/x-python",
   "name": "python",
   "nbconvert_exporter": "python",
   "pygments_lexer": "ipython3",
   "version": "3.8.5"
  },
  "orig_nbformat": 4,
  "vscode": {
   "interpreter": {
    "hash": "40d3a090f54c6569ab1632332b64b2c03c39dcf918b08424e98f38b5ae0af88f"
   }
  }
 },
 "nbformat": 4,
 "nbformat_minor": 2
}
